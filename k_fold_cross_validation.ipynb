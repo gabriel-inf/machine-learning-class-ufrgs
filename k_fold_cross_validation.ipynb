{
  "nbformat": 4,
  "nbformat_minor": 0,
  "metadata": {
    "colab": {
      "name": "k-fold-cross-validation.ipynb",
      "provenance": [],
      "collapsed_sections": [],
      "mount_file_id": "1j7p5gR67zFSMlO_AMFOdnM4rZzZRgHPL",
      "authorship_tag": "ABX9TyNsYKKUm4m/wdIjX+xhVHPQ",
      "include_colab_link": true
    },
    "kernelspec": {
      "name": "python3",
      "display_name": "Python 3"
    }
  },
  "cells": [
    {
      "cell_type": "markdown",
      "metadata": {
        "id": "view-in-github",
        "colab_type": "text"
      },
      "source": [
        "<a href=\"https://colab.research.google.com/github/gabriel-inf/machine-learning-class-ufrgs/blob/master/k_fold_cross_validation.ipynb\" target=\"_parent\"><img src=\"https://colab.research.google.com/assets/colab-badge.svg\" alt=\"Open In Colab\"/></a>"
      ]
    },
    {
      "cell_type": "code",
      "metadata": {
        "id": "RB561e6crXdz",
        "colab_type": "code",
        "colab": {
          "base_uri": "https://localhost:8080/",
          "height": 68
        },
        "outputId": "e14b072f-9d97-413a-8d8e-a1f53b9722aa"
      },
      "source": [
        "import pandas as pd\n",
        "import numpy as np\n",
        "import random\n",
        "from collections import Counter\n",
        "from scipy.spatial import distance\n",
        "!pip3 install plotly --upgrade"
      ],
      "execution_count": 248,
      "outputs": [
        {
          "output_type": "stream",
          "text": [
            "Requirement already up-to-date: plotly in /usr/local/lib/python3.6/dist-packages (4.10.0)\n",
            "Requirement already satisfied, skipping upgrade: retrying>=1.3.3 in /usr/local/lib/python3.6/dist-packages (from plotly) (1.3.3)\n",
            "Requirement already satisfied, skipping upgrade: six in /usr/local/lib/python3.6/dist-packages (from plotly) (1.15.0)\n"
          ],
          "name": "stdout"
        }
      ]
    },
    {
      "cell_type": "markdown",
      "metadata": {
        "id": "qnE_trkvwINo",
        "colab_type": "text"
      },
      "source": [
        "![tp1.png](data:image/png;base64,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)"
      ]
    },
    {
      "cell_type": "code",
      "metadata": {
        "id": "zFcWEmhIvSq-",
        "colab_type": "code",
        "colab": {}
      },
      "source": [
        "#from google.colab import drive\n",
        "#drive.mount('/gdrive')\n",
        "#%cd /gdrive/My Drive/UFRGS/'Ciência da Computação'/'7ª temporada'/'Aprendizado de máquina'/'TrabalhoCV_EnunciadoEDataset (1)'\n",
        "#%ls -lth"
      ],
      "execution_count": 249,
      "outputs": []
    },
    {
      "cell_type": "markdown",
      "metadata": {
        "id": "etivJDO-wBaf",
        "colab_type": "text"
      },
      "source": [
        "# Preprocess"
      ]
    },
    {
      "cell_type": "markdown",
      "metadata": {
        "id": "xWyftPEn6pBD",
        "colab_type": "text"
      },
      "source": [
        "Importing the data and separating paramaters from label"
      ]
    },
    {
      "cell_type": "code",
      "metadata": {
        "id": "G0eBzFI1s0k7",
        "colab_type": "code",
        "colab": {
          "base_uri": "https://localhost:8080/",
          "height": 204
        },
        "outputId": "0cdf7c2d-7ac3-4516-c5c4-65950f96b3c1"
      },
      "source": [
        "# Read dataset\n",
        "dataset = pd.read_csv(\"diabetes.csv\")\n",
        "\n",
        "# Filter out target class from normalization\n",
        "outcomes = np.array(dataset['Outcome'])\n",
        "dataset = dataset.drop(['Outcome'], axis=1)\n",
        "\n",
        "# Normalize the values\n",
        "dataset = (dataset-dataset.min())/(dataset.max()-dataset.min())\n",
        "dataset.head()"
      ],
      "execution_count": 250,
      "outputs": [
        {
          "output_type": "execute_result",
          "data": {
            "text/html": [
              "<div>\n",
              "<style scoped>\n",
              "    .dataframe tbody tr th:only-of-type {\n",
              "        vertical-align: middle;\n",
              "    }\n",
              "\n",
              "    .dataframe tbody tr th {\n",
              "        vertical-align: top;\n",
              "    }\n",
              "\n",
              "    .dataframe thead th {\n",
              "        text-align: right;\n",
              "    }\n",
              "</style>\n",
              "<table border=\"1\" class=\"dataframe\">\n",
              "  <thead>\n",
              "    <tr style=\"text-align: right;\">\n",
              "      <th></th>\n",
              "      <th>Pregnancies</th>\n",
              "      <th>Glucose</th>\n",
              "      <th>BloodPressure</th>\n",
              "      <th>SkinThickness</th>\n",
              "      <th>Insulin</th>\n",
              "      <th>BMI</th>\n",
              "      <th>DiabetesPedigreeFunction</th>\n",
              "      <th>Age</th>\n",
              "    </tr>\n",
              "  </thead>\n",
              "  <tbody>\n",
              "    <tr>\n",
              "      <th>0</th>\n",
              "      <td>0.352941</td>\n",
              "      <td>0.743719</td>\n",
              "      <td>0.590164</td>\n",
              "      <td>0.353535</td>\n",
              "      <td>0.000000</td>\n",
              "      <td>0.500745</td>\n",
              "      <td>0.234415</td>\n",
              "      <td>0.483333</td>\n",
              "    </tr>\n",
              "    <tr>\n",
              "      <th>1</th>\n",
              "      <td>0.058824</td>\n",
              "      <td>0.427136</td>\n",
              "      <td>0.540984</td>\n",
              "      <td>0.292929</td>\n",
              "      <td>0.000000</td>\n",
              "      <td>0.396423</td>\n",
              "      <td>0.116567</td>\n",
              "      <td>0.166667</td>\n",
              "    </tr>\n",
              "    <tr>\n",
              "      <th>2</th>\n",
              "      <td>0.470588</td>\n",
              "      <td>0.919598</td>\n",
              "      <td>0.524590</td>\n",
              "      <td>0.000000</td>\n",
              "      <td>0.000000</td>\n",
              "      <td>0.347243</td>\n",
              "      <td>0.253629</td>\n",
              "      <td>0.183333</td>\n",
              "    </tr>\n",
              "    <tr>\n",
              "      <th>3</th>\n",
              "      <td>0.058824</td>\n",
              "      <td>0.447236</td>\n",
              "      <td>0.540984</td>\n",
              "      <td>0.232323</td>\n",
              "      <td>0.111111</td>\n",
              "      <td>0.418778</td>\n",
              "      <td>0.038002</td>\n",
              "      <td>0.000000</td>\n",
              "    </tr>\n",
              "    <tr>\n",
              "      <th>4</th>\n",
              "      <td>0.000000</td>\n",
              "      <td>0.688442</td>\n",
              "      <td>0.327869</td>\n",
              "      <td>0.353535</td>\n",
              "      <td>0.198582</td>\n",
              "      <td>0.642325</td>\n",
              "      <td>0.943638</td>\n",
              "      <td>0.200000</td>\n",
              "    </tr>\n",
              "  </tbody>\n",
              "</table>\n",
              "</div>"
            ],
            "text/plain": [
              "   Pregnancies   Glucose  ...  DiabetesPedigreeFunction       Age\n",
              "0     0.352941  0.743719  ...                  0.234415  0.483333\n",
              "1     0.058824  0.427136  ...                  0.116567  0.166667\n",
              "2     0.470588  0.919598  ...                  0.253629  0.183333\n",
              "3     0.058824  0.447236  ...                  0.038002  0.000000\n",
              "4     0.000000  0.688442  ...                  0.943638  0.200000\n",
              "\n",
              "[5 rows x 8 columns]"
            ]
          },
          "metadata": {
            "tags": []
          },
          "execution_count": 250
        }
      ]
    },
    {
      "cell_type": "markdown",
      "metadata": {
        "id": "Rk-7okXnIpPP",
        "colab_type": "text"
      },
      "source": [
        "Used for the post processes"
      ]
    },
    {
      "cell_type": "code",
      "metadata": {
        "id": "l2dmNMF1IgdR",
        "colab_type": "code",
        "colab": {}
      },
      "source": [
        "accuracies = []\n",
        "f_measures = []\n",
        "truePos_trueNeg_falsePos_falseNeg = []"
      ],
      "execution_count": 251,
      "outputs": []
    },
    {
      "cell_type": "markdown",
      "metadata": {
        "id": "2y5MqXLFz6bZ",
        "colab_type": "text"
      },
      "source": [
        "## Some definitions"
      ]
    },
    {
      "cell_type": "code",
      "metadata": {
        "id": "rbpeUYsVL3uf",
        "colab_type": "code",
        "colab": {}
      },
      "source": [
        ""
      ],
      "execution_count": 251,
      "outputs": []
    },
    {
      "cell_type": "markdown",
      "metadata": {
        "id": "Km5Pv1EILMkf",
        "colab_type": "text"
      },
      "source": [
        "### Similarity between two instances\n",
        "\n",
        "For for the similarity between two instances I'm calculating the euclidian distance with the help of a linear algebra library"
      ]
    },
    {
      "cell_type": "code",
      "metadata": {
        "id": "0AfGFT5_xAbO",
        "colab_type": "code",
        "colab": {}
      },
      "source": [
        "def calculate_distance(a: int, b: int) -> float:\n",
        "  v1 = dataset.iloc[a].array\n",
        "  v2 = dataset.iloc[b].array\n",
        "  return np.linalg.norm(v1-v2)"
      ],
      "execution_count": 252,
      "outputs": []
    },
    {
      "cell_type": "markdown",
      "metadata": {
        "id": "ab9Y7LtAMCzC",
        "colab_type": "text"
      },
      "source": [
        "Helper functions used to get the most frequent label and to transform a list of list into a flat list."
      ]
    },
    {
      "cell_type": "code",
      "metadata": {
        "id": "XLZ-sq4TMB4k",
        "colab_type": "code",
        "colab": {}
      },
      "source": [
        "def get_most_frequent_label(neighbor_labels):\n",
        "  return np.bincount(neighbor_labels).argmax()\n",
        "\n",
        "def get_flat_list(list):\n",
        "  flat_list = []\n",
        "  for sublist in list:\n",
        "      for item in sublist:\n",
        "          flat_list.append(item)\n",
        "  return flat_list"
      ],
      "execution_count": 253,
      "outputs": []
    },
    {
      "cell_type": "markdown",
      "metadata": {
        "id": "1--dc55qMOIn",
        "colab_type": "text"
      },
      "source": [
        "# KNN Algorithm Implementation\n",
        "\n",
        "This functions executes the KNN algorithm:\n",
        "\n",
        "**Given**\n",
        "*   k: for the 'K'nn\n",
        "*   labels: list of real labels\n",
        "*   train_instances: array of integers that have the indexes of the train instances\n",
        "*   instance_to_predict: int for the index of the instance under evaluation\n",
        "\n",
        "**Returns**\n",
        "*   int that represents the prediction [0,1]"
      ]
    },
    {
      "cell_type": "code",
      "metadata": {
        "id": "teLCaPyn0dcM",
        "colab_type": "code",
        "colab": {}
      },
      "source": [
        "def knn_implementation(k: int, labels: list,  train_instances: list, instance_to_predict: int):\n",
        "  dinstances_to_instance = []\n",
        "  for train_instance in train_instances:\n",
        "    dinstances_to_instance.append(tuple([train_instance, calculate_distance(train_instance, instance_to_predict)]))\n",
        "  \n",
        "  dinstances_to_instance = sorted(dinstances_to_instance, key=lambda x: x[1], reverse=False)\n",
        "  k_nearest_neighbors = [x[0] for x in dinstances_to_instance[:k]]\n",
        "  k_nearest_neighbors_classes = []\n",
        "\n",
        "  \n",
        "\n",
        "  for neighbor in k_nearest_neighbors:\n",
        "    k_nearest_neighbors_classes.append(labels[neighbor])\n",
        "\n",
        "\n",
        "  return get_most_frequent_label(k_nearest_neighbors_classes)"
      ],
      "execution_count": 254,
      "outputs": []
    },
    {
      "cell_type": "markdown",
      "metadata": {
        "id": "ub6xn3jzUw34",
        "colab_type": "text"
      },
      "source": [
        "# Folds generation\n",
        "\n",
        "Randomly creates the folds by selecting one element from each class per iteration."
      ]
    },
    {
      "cell_type": "code",
      "metadata": {
        "id": "Jgfp5VmhH8h9",
        "colab_type": "code",
        "colab": {}
      },
      "source": [
        "\"\"\"\n",
        "  Returns k lists of lists that represent the folds\n",
        "\"\"\"\n",
        "def get_folds(k: int):\n",
        "  dataset_size = dataset.shape[0]\n",
        "\n",
        "  folds = []\n",
        "  for i in range(0, k):\n",
        "    folds.append([])\n",
        "\n",
        "  possible_elements = [x for x in range(0, dataset_size)]\n",
        "  possible_true = []\n",
        "  possible_false = []\n",
        "\n",
        "  for element in possible_elements:\n",
        "    if outcomes[element] == 1:\n",
        "      possible_true.append(element)\n",
        "    else:\n",
        "      possible_false.append(element)\n",
        "\n",
        "  while len(possible_true + possible_false) > 0:\n",
        "    for i in range(k):\n",
        "      if len(possible_true) > 0:\n",
        "        element = random.choice(possible_true)\n",
        "        possible_true.remove(element)\n",
        "        folds[i].append(element)\n",
        "      if len(possible_false) > 0:\n",
        "        element = random.choice(possible_false)\n",
        "        possible_false.remove(element)\n",
        "        folds[i].append(element)\n",
        "\n",
        "  return folds"
      ],
      "execution_count": 255,
      "outputs": []
    },
    {
      "cell_type": "markdown",
      "metadata": {
        "id": "PqvGPcfiVH9s",
        "colab_type": "text"
      },
      "source": [
        "# Functions used to calculate the metrics"
      ]
    },
    {
      "cell_type": "code",
      "metadata": {
        "id": "f5yaZk3CjIfT",
        "colab_type": "code",
        "colab": {}
      },
      "source": [
        "def get_prediction_metrics_parameters(predictions, test):\n",
        "  true_positives = 0\n",
        "  true_negatives = 0\n",
        "  false_negatives = 0\n",
        "  false_positives = 0\n",
        "\n",
        "  for i in range(0, len(predictions)):\n",
        "\n",
        "    if predictions[i] == outcomes[test[i]]:\n",
        "      if predictions[i] == 1:\n",
        "        true_positives += 1\n",
        "      else:\n",
        "        true_negatives += 1\n",
        "    elif predictions[i] == 0:\n",
        "      false_negatives += 1\n",
        "    else:\n",
        "      false_positives += 1\n",
        "\n",
        "  return true_positives, true_negatives, false_positives, false_negatives\n",
        "\n",
        "\n",
        "def calculate_acuracia(predictions, true_positives, true_negatives):\n",
        "  return (true_positives + true_negatives) / len(predictions)\n",
        "\n",
        "def calculate_recall(true_positives, false_negatives):\n",
        "  return true_positives / (true_positives + false_negatives)\n",
        "\n",
        "def calculate_precision(true_positives, false_positives):\n",
        "  return true_positives / (true_positives + false_positives)\n",
        "\n",
        "def calculate_fmeasure(test, beta, true_positives, false_positives, false_negatives):\n",
        "\n",
        "  precision = calculate_precision(true_positives, false_positives)\n",
        "  recall = calculate_recall(true_positives, false_negatives)\n",
        "\n",
        "  return (1 + pow(beta,2)) * ((precision * recall) / ((pow(beta, 2) * precision) + recall))"
      ],
      "execution_count": 256,
      "outputs": []
    },
    {
      "cell_type": "markdown",
      "metadata": {
        "id": "G9Tc2Be3VM23",
        "colab_type": "text"
      },
      "source": [
        "# Function used to run the algorithm and collect the metrics\n",
        "\n",
        "This is run k times in the k_fold_cross_validation"
      ]
    },
    {
      "cell_type": "code",
      "metadata": {
        "id": "PjKItDUChQrq",
        "colab_type": "code",
        "colab": {}
      },
      "source": [
        "def evalutate_segmentation(train_instances, test_instances):\n",
        "  predictions = []\n",
        "\n",
        "  for instance in test_instances:\n",
        "    predictions.append(knn_implementation(5, outcomes, train_instances, instance))\n",
        "\n",
        "  true_positives, true_negatives, false_positives, false_negatives = get_prediction_metrics_parameters(predictions, test_instances)\n",
        "  truePos_trueNeg_falsePos_falseNeg.append([true_positives, true_negatives, false_positives, false_negatives])\n",
        "  accuracy = calculate_acuracia(predictions, true_positives, true_negatives)\n",
        "  f_measure = calculate_fmeasure(test_instances, 1, true_positives, false_positives, false_negatives)\n",
        "  return accuracy, f_measure"
      ],
      "execution_count": 257,
      "outputs": []
    },
    {
      "cell_type": "markdown",
      "metadata": {
        "id": "MotNjn1SVh0A",
        "colab_type": "text"
      },
      "source": [
        "# Wrapping everything and returning the list of measures"
      ]
    },
    {
      "cell_type": "code",
      "metadata": {
        "id": "HPd_6IlWGzPa",
        "colab_type": "code",
        "colab": {}
      },
      "source": [
        "def k_fold_cross_validation(k: int):\n",
        "  folds = get_folds(k)\n",
        "\n",
        "  accuracy = []\n",
        "  f_measure = []\n",
        "  # the i fold will be the test fold\n",
        "  for i in range(0, k):\n",
        "    test_instances = folds[i]\n",
        "    train_instances = []\n",
        "    for fold in [x for index,x in enumerate(folds) if index!=i]:\n",
        "      for element in fold:\n",
        "        train_instances.append(element)\n",
        "    \n",
        "    a, f = evalutate_segmentation(train_instances, test_instances)\n",
        "    accuracy.append(a)\n",
        "    f_measure.append(f)\n",
        "  return accuracy, f_measure"
      ],
      "execution_count": 258,
      "outputs": []
    },
    {
      "cell_type": "code",
      "metadata": {
        "id": "-x8IVMmXQtWo",
        "colab_type": "code",
        "colab": {}
      },
      "source": [
        "accuracies, f_measures = k_fold_cross_validation(10)"
      ],
      "execution_count": 259,
      "outputs": []
    },
    {
      "cell_type": "markdown",
      "metadata": {
        "id": "eJKXpLOLN6v8",
        "colab_type": "text"
      },
      "source": [
        "# Data Analysis\n"
      ]
    },
    {
      "cell_type": "code",
      "metadata": {
        "id": "YhImVhVnOAC_",
        "colab_type": "code",
        "colab": {
          "base_uri": "https://localhost:8080/",
          "height": 119
        },
        "outputId": "5cabb401-fb9d-4995-c990-b983145a07e8"
      },
      "source": [
        "import plotly.express as px\n",
        "\n",
        "truePos_trueNeg_falsePos_falseNeg_n = []\n",
        "for i,x in enumerate(truePos_trueNeg_falsePos_falseNeg):\n",
        "  x = x[:4]\n",
        "  truePos_trueNeg_falsePos_falseNeg_n.append(x)\n",
        "truePos_trueNeg_falsePos_falseNeg = truePos_trueNeg_falsePos_falseNeg_n[:]\n",
        "\n",
        "data = truePos_trueNeg_falsePos_falseNeg[:]\n",
        "for i,x in enumerate(data):\n",
        "  x.append(i+1)\n",
        "\n",
        "\n",
        "df = pd.DataFrame(data, columns = \\\n",
        "                  ['True Positives', 'True Negatives', 'False Positives', 'False Negatives', 'index'])\n",
        "print(df.head())\n"
      ],
      "execution_count": 260,
      "outputs": [
        {
          "output_type": "stream",
          "text": [
            "   True Positives  True Negatives  False Positives  False Negatives  index\n",
            "0              16              40               10               11      1\n",
            "1              11              43                7               16      2\n",
            "2              19              41                9                8      3\n",
            "3              18              40               10                9      4\n",
            "4              19              44                6                8      5\n"
          ],
          "name": "stdout"
        }
      ]
    },
    {
      "cell_type": "code",
      "metadata": {
        "id": "i5_KIpynWA2P",
        "colab_type": "code",
        "colab": {
          "base_uri": "https://localhost:8080/",
          "height": 542
        },
        "outputId": "8155beb9-6a6b-4aa8-dbaa-f3ed03aa902d"
      },
      "source": [
        "import plotly.graph_objects as go\n",
        "k=df['index']\n",
        "fig = go.Figure()\n",
        "fig.add_bar(x=k, y=df['True Positives'], name='True Positives', width=0.5)\n",
        "fig.add_bar(x=k, y=df['True Negatives'], name='True Negatives', width=0.5)\n",
        "fig.add_bar(x=k, y=df['False Positives'], name='False Positives', width=0.5)\n",
        "fig.add_bar(x=k, y=df['False Negatives'], name='False Negatives', width=0.5)\n",
        "\n",
        "fig.update_layout(\n",
        "                    barmode='stack',\n",
        "                    title='Statistics',\n",
        "                    xaxis_tickfont_size=14,\n",
        "                    yaxis=dict(\n",
        "                        title='Values',\n",
        "                        titlefont_size=16,\n",
        "                        tickfont_size=14,\n",
        "                    ),\n",
        "                    legend=dict(\n",
        "                        bgcolor='rgba(255, 255, 255, 0)',\n",
        "                        bordercolor='rgba(255, 255, 255, 0)'\n",
        "                    )\n",
        "                  )\n",
        "\n",
        "fig.show()"
      ],
      "execution_count": 261,
      "outputs": [
        {
          "output_type": "display_data",
          "data": {
            "text/html": [
              "<html>\n",
              "<head><meta charset=\"utf-8\" /></head>\n",
              "<body>\n",
              "    <div>\n",
              "            <script src=\"https://cdnjs.cloudflare.com/ajax/libs/mathjax/2.7.5/MathJax.js?config=TeX-AMS-MML_SVG\"></script><script type=\"text/javascript\">if (window.MathJax) {MathJax.Hub.Config({SVG: {font: \"STIX-Web\"}});}</script>\n",
              "                <script type=\"text/javascript\">window.PlotlyConfig = {MathJaxConfig: 'local'};</script>\n",
              "        <script src=\"https://cdn.plot.ly/plotly-latest.min.js\"></script>    \n",
              "            <div id=\"3cfb4020-42bb-4b82-b9fd-b4716c1ac4af\" class=\"plotly-graph-div\" style=\"height:525px; width:100%;\"></div>\n",
              "            <script type=\"text/javascript\">\n",
              "                \n",
              "                    window.PLOTLYENV=window.PLOTLYENV || {};\n",
              "                    \n",
              "                if (document.getElementById(\"3cfb4020-42bb-4b82-b9fd-b4716c1ac4af\")) {\n",
              "                    Plotly.newPlot(\n",
              "                        '3cfb4020-42bb-4b82-b9fd-b4716c1ac4af',\n",
              "                        [{\"name\": \"True Positives\", \"type\": \"bar\", \"width\": 0.5, \"x\": [1, 2, 3, 4, 5, 6, 7, 8, 9, 10], \"y\": [16, 11, 19, 18, 19, 16, 13, 13, 13, 10]}, {\"name\": \"True Negatives\", \"type\": \"bar\", \"width\": 0.5, \"x\": [1, 2, 3, 4, 5, 6, 7, 8, 9, 10], \"y\": [40, 43, 41, 40, 44, 40, 43, 39, 43, 42]}, {\"name\": \"False Positives\", \"type\": \"bar\", \"width\": 0.5, \"x\": [1, 2, 3, 4, 5, 6, 7, 8, 9, 10], \"y\": [10, 7, 9, 10, 6, 10, 7, 11, 7, 8]}, {\"name\": \"False Negatives\", \"type\": \"bar\", \"width\": 0.5, \"x\": [1, 2, 3, 4, 5, 6, 7, 8, 9, 10], \"y\": [11, 16, 8, 9, 8, 11, 14, 14, 13, 16]}],\n",
              "                        {\"barmode\": \"stack\", \"legend\": {\"bgcolor\": \"rgba(255, 255, 255, 0)\", \"bordercolor\": \"rgba(255, 255, 255, 0)\"}, \"template\": {\"data\": {\"bar\": [{\"error_x\": {\"color\": \"#2a3f5f\"}, \"error_y\": {\"color\": \"#2a3f5f\"}, \"marker\": {\"line\": {\"color\": \"#E5ECF6\", \"width\": 0.5}}, \"type\": \"bar\"}], \"barpolar\": [{\"marker\": {\"line\": {\"color\": \"#E5ECF6\", \"width\": 0.5}}, \"type\": \"barpolar\"}], \"carpet\": [{\"aaxis\": {\"endlinecolor\": \"#2a3f5f\", \"gridcolor\": \"white\", \"linecolor\": \"white\", \"minorgridcolor\": \"white\", \"startlinecolor\": \"#2a3f5f\"}, \"baxis\": {\"endlinecolor\": \"#2a3f5f\", \"gridcolor\": \"white\", \"linecolor\": \"white\", \"minorgridcolor\": \"white\", \"startlinecolor\": \"#2a3f5f\"}, \"type\": \"carpet\"}], \"choropleth\": [{\"colorbar\": {\"outlinewidth\": 0, \"ticks\": \"\"}, \"type\": \"choropleth\"}], \"contour\": [{\"colorbar\": {\"outlinewidth\": 0, \"ticks\": \"\"}, \"colorscale\": [[0.0, \"#0d0887\"], [0.1111111111111111, \"#46039f\"], [0.2222222222222222, \"#7201a8\"], [0.3333333333333333, \"#9c179e\"], [0.4444444444444444, \"#bd3786\"], [0.5555555555555556, \"#d8576b\"], [0.6666666666666666, \"#ed7953\"], [0.7777777777777778, \"#fb9f3a\"], [0.8888888888888888, \"#fdca26\"], [1.0, \"#f0f921\"]], \"type\": \"contour\"}], \"contourcarpet\": [{\"colorbar\": {\"outlinewidth\": 0, \"ticks\": \"\"}, \"type\": \"contourcarpet\"}], \"heatmap\": [{\"colorbar\": {\"outlinewidth\": 0, \"ticks\": \"\"}, \"colorscale\": [[0.0, \"#0d0887\"], [0.1111111111111111, \"#46039f\"], [0.2222222222222222, \"#7201a8\"], [0.3333333333333333, \"#9c179e\"], [0.4444444444444444, \"#bd3786\"], [0.5555555555555556, \"#d8576b\"], [0.6666666666666666, \"#ed7953\"], [0.7777777777777778, \"#fb9f3a\"], [0.8888888888888888, \"#fdca26\"], [1.0, \"#f0f921\"]], \"type\": \"heatmap\"}], \"heatmapgl\": [{\"colorbar\": {\"outlinewidth\": 0, \"ticks\": \"\"}, \"colorscale\": [[0.0, \"#0d0887\"], [0.1111111111111111, \"#46039f\"], [0.2222222222222222, \"#7201a8\"], [0.3333333333333333, \"#9c179e\"], [0.4444444444444444, \"#bd3786\"], [0.5555555555555556, \"#d8576b\"], [0.6666666666666666, \"#ed7953\"], [0.7777777777777778, \"#fb9f3a\"], [0.8888888888888888, \"#fdca26\"], [1.0, \"#f0f921\"]], \"type\": \"heatmapgl\"}], \"histogram\": [{\"marker\": {\"colorbar\": {\"outlinewidth\": 0, \"ticks\": \"\"}}, \"type\": \"histogram\"}], \"histogram2d\": [{\"colorbar\": {\"outlinewidth\": 0, \"ticks\": \"\"}, \"colorscale\": [[0.0, \"#0d0887\"], [0.1111111111111111, \"#46039f\"], [0.2222222222222222, \"#7201a8\"], [0.3333333333333333, \"#9c179e\"], [0.4444444444444444, \"#bd3786\"], [0.5555555555555556, \"#d8576b\"], [0.6666666666666666, \"#ed7953\"], [0.7777777777777778, \"#fb9f3a\"], [0.8888888888888888, \"#fdca26\"], [1.0, \"#f0f921\"]], \"type\": \"histogram2d\"}], \"histogram2dcontour\": [{\"colorbar\": {\"outlinewidth\": 0, \"ticks\": \"\"}, \"colorscale\": [[0.0, \"#0d0887\"], [0.1111111111111111, \"#46039f\"], [0.2222222222222222, \"#7201a8\"], [0.3333333333333333, \"#9c179e\"], [0.4444444444444444, \"#bd3786\"], [0.5555555555555556, \"#d8576b\"], [0.6666666666666666, \"#ed7953\"], [0.7777777777777778, \"#fb9f3a\"], [0.8888888888888888, \"#fdca26\"], [1.0, \"#f0f921\"]], \"type\": \"histogram2dcontour\"}], \"mesh3d\": [{\"colorbar\": {\"outlinewidth\": 0, \"ticks\": \"\"}, \"type\": \"mesh3d\"}], \"parcoords\": [{\"line\": {\"colorbar\": {\"outlinewidth\": 0, \"ticks\": \"\"}}, \"type\": \"parcoords\"}], \"pie\": [{\"automargin\": true, \"type\": \"pie\"}], \"scatter\": [{\"marker\": {\"colorbar\": {\"outlinewidth\": 0, \"ticks\": \"\"}}, \"type\": \"scatter\"}], \"scatter3d\": [{\"line\": {\"colorbar\": {\"outlinewidth\": 0, \"ticks\": \"\"}}, \"marker\": {\"colorbar\": {\"outlinewidth\": 0, \"ticks\": \"\"}}, \"type\": \"scatter3d\"}], \"scattercarpet\": [{\"marker\": {\"colorbar\": {\"outlinewidth\": 0, \"ticks\": \"\"}}, \"type\": \"scattercarpet\"}], \"scattergeo\": [{\"marker\": {\"colorbar\": {\"outlinewidth\": 0, \"ticks\": \"\"}}, \"type\": \"scattergeo\"}], \"scattergl\": [{\"marker\": {\"colorbar\": {\"outlinewidth\": 0, \"ticks\": \"\"}}, \"type\": \"scattergl\"}], \"scattermapbox\": [{\"marker\": {\"colorbar\": {\"outlinewidth\": 0, \"ticks\": \"\"}}, \"type\": \"scattermapbox\"}], \"scatterpolar\": [{\"marker\": {\"colorbar\": {\"outlinewidth\": 0, \"ticks\": \"\"}}, \"type\": \"scatterpolar\"}], \"scatterpolargl\": [{\"marker\": {\"colorbar\": {\"outlinewidth\": 0, \"ticks\": \"\"}}, \"type\": \"scatterpolargl\"}], \"scatterternary\": [{\"marker\": {\"colorbar\": {\"outlinewidth\": 0, \"ticks\": \"\"}}, \"type\": \"scatterternary\"}], \"surface\": [{\"colorbar\": {\"outlinewidth\": 0, \"ticks\": \"\"}, \"colorscale\": [[0.0, \"#0d0887\"], [0.1111111111111111, \"#46039f\"], [0.2222222222222222, \"#7201a8\"], [0.3333333333333333, \"#9c179e\"], [0.4444444444444444, \"#bd3786\"], [0.5555555555555556, \"#d8576b\"], [0.6666666666666666, \"#ed7953\"], [0.7777777777777778, \"#fb9f3a\"], [0.8888888888888888, \"#fdca26\"], [1.0, \"#f0f921\"]], \"type\": \"surface\"}], \"table\": [{\"cells\": {\"fill\": {\"color\": \"#EBF0F8\"}, \"line\": {\"color\": \"white\"}}, \"header\": {\"fill\": {\"color\": \"#C8D4E3\"}, \"line\": {\"color\": \"white\"}}, \"type\": \"table\"}]}, \"layout\": {\"annotationdefaults\": {\"arrowcolor\": \"#2a3f5f\", \"arrowhead\": 0, \"arrowwidth\": 1}, \"coloraxis\": {\"colorbar\": {\"outlinewidth\": 0, \"ticks\": \"\"}}, \"colorscale\": {\"diverging\": [[0, \"#8e0152\"], [0.1, \"#c51b7d\"], [0.2, \"#de77ae\"], [0.3, \"#f1b6da\"], [0.4, \"#fde0ef\"], [0.5, \"#f7f7f7\"], [0.6, \"#e6f5d0\"], [0.7, \"#b8e186\"], [0.8, \"#7fbc41\"], [0.9, \"#4d9221\"], [1, \"#276419\"]], \"sequential\": [[0.0, \"#0d0887\"], [0.1111111111111111, \"#46039f\"], [0.2222222222222222, \"#7201a8\"], [0.3333333333333333, \"#9c179e\"], [0.4444444444444444, \"#bd3786\"], [0.5555555555555556, \"#d8576b\"], [0.6666666666666666, \"#ed7953\"], [0.7777777777777778, \"#fb9f3a\"], [0.8888888888888888, \"#fdca26\"], [1.0, \"#f0f921\"]], \"sequentialminus\": [[0.0, \"#0d0887\"], [0.1111111111111111, \"#46039f\"], [0.2222222222222222, \"#7201a8\"], [0.3333333333333333, \"#9c179e\"], [0.4444444444444444, \"#bd3786\"], [0.5555555555555556, \"#d8576b\"], [0.6666666666666666, \"#ed7953\"], [0.7777777777777778, \"#fb9f3a\"], [0.8888888888888888, \"#fdca26\"], [1.0, \"#f0f921\"]]}, \"colorway\": [\"#636efa\", \"#EF553B\", \"#00cc96\", \"#ab63fa\", \"#FFA15A\", \"#19d3f3\", \"#FF6692\", \"#B6E880\", \"#FF97FF\", \"#FECB52\"], \"font\": {\"color\": \"#2a3f5f\"}, \"geo\": {\"bgcolor\": \"white\", \"lakecolor\": \"white\", \"landcolor\": \"#E5ECF6\", \"showlakes\": true, \"showland\": true, \"subunitcolor\": \"white\"}, \"hoverlabel\": {\"align\": \"left\"}, \"hovermode\": \"closest\", \"mapbox\": {\"style\": \"light\"}, \"paper_bgcolor\": \"white\", \"plot_bgcolor\": \"#E5ECF6\", \"polar\": {\"angularaxis\": {\"gridcolor\": \"white\", \"linecolor\": \"white\", \"ticks\": \"\"}, \"bgcolor\": \"#E5ECF6\", \"radialaxis\": {\"gridcolor\": \"white\", \"linecolor\": \"white\", \"ticks\": \"\"}}, \"scene\": {\"xaxis\": {\"backgroundcolor\": \"#E5ECF6\", \"gridcolor\": \"white\", \"gridwidth\": 2, \"linecolor\": \"white\", \"showbackground\": true, \"ticks\": \"\", \"zerolinecolor\": \"white\"}, \"yaxis\": {\"backgroundcolor\": \"#E5ECF6\", \"gridcolor\": \"white\", \"gridwidth\": 2, \"linecolor\": \"white\", \"showbackground\": true, \"ticks\": \"\", \"zerolinecolor\": \"white\"}, \"zaxis\": {\"backgroundcolor\": \"#E5ECF6\", \"gridcolor\": \"white\", \"gridwidth\": 2, \"linecolor\": \"white\", \"showbackground\": true, \"ticks\": \"\", \"zerolinecolor\": \"white\"}}, \"shapedefaults\": {\"line\": {\"color\": \"#2a3f5f\"}}, \"ternary\": {\"aaxis\": {\"gridcolor\": \"white\", \"linecolor\": \"white\", \"ticks\": \"\"}, \"baxis\": {\"gridcolor\": \"white\", \"linecolor\": \"white\", \"ticks\": \"\"}, \"bgcolor\": \"#E5ECF6\", \"caxis\": {\"gridcolor\": \"white\", \"linecolor\": \"white\", \"ticks\": \"\"}}, \"title\": {\"x\": 0.05}, \"xaxis\": {\"automargin\": true, \"gridcolor\": \"white\", \"linecolor\": \"white\", \"ticks\": \"\", \"title\": {\"standoff\": 15}, \"zerolinecolor\": \"white\", \"zerolinewidth\": 2}, \"yaxis\": {\"automargin\": true, \"gridcolor\": \"white\", \"linecolor\": \"white\", \"ticks\": \"\", \"title\": {\"standoff\": 15}, \"zerolinecolor\": \"white\", \"zerolinewidth\": 2}}}, \"title\": {\"text\": \"Statistics\"}, \"xaxis\": {\"tickfont\": {\"size\": 14}}, \"yaxis\": {\"tickfont\": {\"size\": 14}, \"title\": {\"font\": {\"size\": 16}, \"text\": \"Values\"}}},\n",
              "                        {\"responsive\": true}\n",
              "                    ).then(function(){\n",
              "                            \n",
              "var gd = document.getElementById('3cfb4020-42bb-4b82-b9fd-b4716c1ac4af');\n",
              "var x = new MutationObserver(function (mutations, observer) {{\n",
              "        var display = window.getComputedStyle(gd).display;\n",
              "        if (!display || display === 'none') {{\n",
              "            console.log([gd, 'removed!']);\n",
              "            Plotly.purge(gd);\n",
              "            observer.disconnect();\n",
              "        }}\n",
              "}});\n",
              "\n",
              "// Listen for the removal of the full notebook cells\n",
              "var notebookContainer = gd.closest('#notebook-container');\n",
              "if (notebookContainer) {{\n",
              "    x.observe(notebookContainer, {childList: true});\n",
              "}}\n",
              "\n",
              "// Listen for the clearing of the current output cell\n",
              "var outputEl = gd.closest('.output');\n",
              "if (outputEl) {{\n",
              "    x.observe(outputEl, {childList: true});\n",
              "}}\n",
              "\n",
              "                        })\n",
              "                };\n",
              "                \n",
              "            </script>\n",
              "        </div>\n",
              "</body>\n",
              "</html>"
            ]
          },
          "metadata": {
            "tags": []
          }
        }
      ]
    },
    {
      "cell_type": "markdown",
      "metadata": {
        "id": "xL6ANtuBeVzs",
        "colab_type": "text"
      },
      "source": [
        "# The table"
      ]
    },
    {
      "cell_type": "code",
      "metadata": {
        "id": "JkG-2j55bNmK",
        "colab_type": "code",
        "colab": {}
      },
      "source": [
        "final_df = pd.DataFrame()\n",
        "\n",
        "final_df['Iteration'] = [x+1 for x in range(10)]\n",
        "final_df['Accuracie'] = accuracies\n",
        "final_df['F-Measure'] = f_measures\n",
        "\n",
        "\n",
        "\n",
        "\n",
        "\n",
        "df = final_df.append({'Iteration': \"mean\", \n",
        "                      'Accuracie': final_df['Accuracie'].mean(), \n",
        "                      'F-Measure': final_df['F-Measure'].mean()}, \n",
        "                     ignore_index=True)\n",
        "\n",
        "df = df.append({'Iteration': \"std\", \n",
        "                      'Accuracie': final_df['Accuracie'].std(), \n",
        "                      'F-Measure': final_df['F-Measure'].std()}, \n",
        "                     ignore_index=True)\n"
      ],
      "execution_count": 262,
      "outputs": []
    },
    {
      "cell_type": "code",
      "metadata": {
        "id": "aeylsbttmna7",
        "colab_type": "code",
        "colab": {
          "base_uri": "https://localhost:8080/",
          "height": 421
        },
        "outputId": "d616f3f1-7f98-4ad4-903c-2873732b68f5"
      },
      "source": [
        "df"
      ],
      "execution_count": 264,
      "outputs": [
        {
          "output_type": "execute_result",
          "data": {
            "text/html": [
              "<div>\n",
              "<style scoped>\n",
              "    .dataframe tbody tr th:only-of-type {\n",
              "        vertical-align: middle;\n",
              "    }\n",
              "\n",
              "    .dataframe tbody tr th {\n",
              "        vertical-align: top;\n",
              "    }\n",
              "\n",
              "    .dataframe thead th {\n",
              "        text-align: right;\n",
              "    }\n",
              "</style>\n",
              "<table border=\"1\" class=\"dataframe\">\n",
              "  <thead>\n",
              "    <tr style=\"text-align: right;\">\n",
              "      <th></th>\n",
              "      <th>Iteration</th>\n",
              "      <th>Accuracie</th>\n",
              "      <th>F-Measure</th>\n",
              "    </tr>\n",
              "  </thead>\n",
              "  <tbody>\n",
              "    <tr>\n",
              "      <th>0</th>\n",
              "      <td>1</td>\n",
              "      <td>0.727273</td>\n",
              "      <td>0.603774</td>\n",
              "    </tr>\n",
              "    <tr>\n",
              "      <th>1</th>\n",
              "      <td>2</td>\n",
              "      <td>0.701299</td>\n",
              "      <td>0.488889</td>\n",
              "    </tr>\n",
              "    <tr>\n",
              "      <th>2</th>\n",
              "      <td>3</td>\n",
              "      <td>0.779221</td>\n",
              "      <td>0.690909</td>\n",
              "    </tr>\n",
              "    <tr>\n",
              "      <th>3</th>\n",
              "      <td>4</td>\n",
              "      <td>0.753247</td>\n",
              "      <td>0.654545</td>\n",
              "    </tr>\n",
              "    <tr>\n",
              "      <th>4</th>\n",
              "      <td>5</td>\n",
              "      <td>0.818182</td>\n",
              "      <td>0.730769</td>\n",
              "    </tr>\n",
              "    <tr>\n",
              "      <th>5</th>\n",
              "      <td>6</td>\n",
              "      <td>0.727273</td>\n",
              "      <td>0.603774</td>\n",
              "    </tr>\n",
              "    <tr>\n",
              "      <th>6</th>\n",
              "      <td>7</td>\n",
              "      <td>0.727273</td>\n",
              "      <td>0.553191</td>\n",
              "    </tr>\n",
              "    <tr>\n",
              "      <th>7</th>\n",
              "      <td>8</td>\n",
              "      <td>0.675325</td>\n",
              "      <td>0.509804</td>\n",
              "    </tr>\n",
              "    <tr>\n",
              "      <th>8</th>\n",
              "      <td>9</td>\n",
              "      <td>0.736842</td>\n",
              "      <td>0.565217</td>\n",
              "    </tr>\n",
              "    <tr>\n",
              "      <th>9</th>\n",
              "      <td>10</td>\n",
              "      <td>0.684211</td>\n",
              "      <td>0.454545</td>\n",
              "    </tr>\n",
              "    <tr>\n",
              "      <th>10</th>\n",
              "      <td>mean</td>\n",
              "      <td>0.733014</td>\n",
              "      <td>0.585542</td>\n",
              "    </tr>\n",
              "    <tr>\n",
              "      <th>11</th>\n",
              "      <td>std</td>\n",
              "      <td>0.042982</td>\n",
              "      <td>0.089018</td>\n",
              "    </tr>\n",
              "  </tbody>\n",
              "</table>\n",
              "</div>"
            ],
            "text/plain": [
              "   Iteration  Accuracie  F-Measure\n",
              "0          1   0.727273   0.603774\n",
              "1          2   0.701299   0.488889\n",
              "2          3   0.779221   0.690909\n",
              "3          4   0.753247   0.654545\n",
              "4          5   0.818182   0.730769\n",
              "5          6   0.727273   0.603774\n",
              "6          7   0.727273   0.553191\n",
              "7          8   0.675325   0.509804\n",
              "8          9   0.736842   0.565217\n",
              "9         10   0.684211   0.454545\n",
              "10      mean   0.733014   0.585542\n",
              "11       std   0.042982   0.089018"
            ]
          },
          "metadata": {
            "tags": []
          },
          "execution_count": 264
        }
      ]
    }
  ]
}